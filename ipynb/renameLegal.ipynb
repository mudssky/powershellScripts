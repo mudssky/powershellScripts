{
 "cells": [
  {
   "cell_type": "code",
   "execution_count": 30,
   "source": [
    "\r\n",
    "import os\r\n",
    "import re"
   ],
   "outputs": [],
   "metadata": {}
  },
  {
   "cell_type": "code",
   "execution_count": 35,
   "source": [
    "pattern=r'[\\\\/:*?\"<>|\\r\\n]+'\r\n",
    "filelist = os.listdir('.')"
   ],
   "outputs": [],
   "metadata": {}
  },
  {
   "cell_type": "code",
   "execution_count": 45,
   "source": [
    "def renameLegal(filename,pattern):\r\n",
    "\treturn re.sub(pattern,'',filename)"
   ],
   "outputs": [],
   "metadata": {}
  },
  {
   "cell_type": "code",
   "execution_count": 46,
   "source": [
    "for file in filelist:\r\n",
    "\tif re.search(pattern,file):\r\n",
    "\t\t# print(file)\r\n",
    "\t\tos.rename(file,renameLegal(file,pattern))"
   ],
   "outputs": [],
   "metadata": {}
  }
 ],
 "metadata": {
  "orig_nbformat": 4,
  "language_info": {
   "name": "python",
   "version": "3.9.5",
   "mimetype": "text/x-python",
   "codemirror_mode": {
    "name": "ipython",
    "version": 3
   },
   "pygments_lexer": "ipython3",
   "nbconvert_exporter": "python",
   "file_extension": ".py"
  },
  "kernelspec": {
   "name": "python3",
   "display_name": "Python 3.9.5 64-bit"
  },
  "interpreter": {
   "hash": "2a23ea8188788689fb6d6e795cb308d990447efa44501cb4bbe671c3d6cff53c"
  }
 },
 "nbformat": 4,
 "nbformat_minor": 2
}